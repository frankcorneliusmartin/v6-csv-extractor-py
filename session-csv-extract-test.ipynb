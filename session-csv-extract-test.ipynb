{
 "cells": [
  {
   "cell_type": "code",
   "execution_count": 1,
   "metadata": {},
   "outputs": [],
   "source": [
    "from vantage6.client import Client"
   ]
  },
  {
   "cell_type": "code",
   "execution_count": 2,
   "metadata": {},
   "outputs": [
    {
     "name": "stdout",
     "output_type": "stream",
     "text": [
      " Welcome to\n",
      "                  _                     __  \n",
      "                 | |                   / /  \n",
      "__   ____ _ _ __ | |_ __ _  __ _  ___ / /_  \n",
      "\\ \\ / / _` | '_ \\| __/ _` |/ _` |/ _ \\ '_ \\ \n",
      " \\ V / (_| | | | | || (_| | (_| |  __/ (_) |\n",
      "  \\_/ \\__,_|_| |_|\\__\\__,_|\\__, |\\___|\\___/ \n",
      "                            __/ |           \n",
      "                           |___/            \n",
      "\n",
      " --> Join us on Discord! https://discord.gg/rwRvwyK\n",
      " --> Docs: https://docs.vantage6.ai\n",
      " --> Blog: https://vantage6.ai\n",
      "------------------------------------------------------------\n",
      "Cite us!\n",
      "If you publish your findings obtained using vantage6, \n",
      "please cite the proper sources as mentioned in:\n",
      "https://vantage6.ai/vantage6/references\n",
      "------------------------------------------------------------\n"
     ]
    }
   ],
   "source": [
    "client = Client(\"http://localhost\", 5000, \"/api\", log_level=\"DEBUG\")"
   ]
  },
  {
   "cell_type": "code",
   "execution_count": 3,
   "metadata": {},
   "outputs": [
    {
     "name": "stdout",
     "output_type": "stream",
     "text": [
      "Authenticating user org_1-admin...\n",
      "Starting new HTTP connection (1): localhost:5000\n",
      "http://localhost:5000 \"POST /api/token/user HTTP/1.1\" 200 733\n",
      "Successfully authenticated\n",
      "Making request: GET | http://localhost:5000/api/user/1 | None\n",
      "Starting new HTTP connection (1): localhost:5000\n",
      "http://localhost:5000 \"GET /api/user/1 HTTP/1.1\" 200 432\n",
      "Making request: GET | http://localhost:5000/api/organization/1 | None\n",
      "Starting new HTTP connection (1): localhost:5000\n",
      "http://localhost:5000 \"GET /api/organization/1 HTTP/1.1\" 200 1489\n",
      " --> Succesfully authenticated\n",
      " --> Name: admin (id=1)\n",
      " --> Organization: org_1 (id=1)\n"
     ]
    }
   ],
   "source": [
    "client.authenticate(\"org_1-admin\", \"password\")"
   ]
  },
  {
   "cell_type": "code",
   "execution_count": 4,
   "metadata": {},
   "outputs": [],
   "source": [
    "client.setup_encryption(None)"
   ]
  },
  {
   "cell_type": "code",
   "execution_count": 5,
   "metadata": {},
   "outputs": [
    {
     "name": "stdout",
     "output_type": "stream",
     "text": [
      "Setting up collaboration 1\n",
      "Making request: GET | http://localhost:5000/api/collaboration/1 | None\n",
      "Starting new HTTP connection (1): localhost:5000\n",
      "http://localhost:5000 \"GET /api/collaboration/1 HTTP/1.1\" 200 330\n"
     ]
    }
   ],
   "source": [
    "client.setup_collaboration(1)"
   ]
  },
  {
   "cell_type": "code",
   "execution_count": 9,
   "metadata": {},
   "outputs": [
    {
     "name": "stdout",
     "output_type": "stream",
     "text": [
      "eyJtZXRob2QiOiAicmVhZF9jc3YiLCAiYXJncyI6IFtdLCAia3dhcmdzIjoge319\n",
      "eyJtZXRob2QiOiAicHJlX3Byb2Nlc3MiLCAiYXJncyI6IFsiYWdlIiwgInN0cmluZyJdLCAia3dhcmdzIjoge319\n",
      "eyJtZXRob2QiOiAic3VtIiwgImFyZ3MiOiBbImFnZSJdLCAia3dhcmdzIjoge319\n"
     ]
    }
   ],
   "source": [
    "from vantage6.common.serialization import serialize\n",
    "from vantage6.common.encryption import DummyCryptor\n",
    "\n",
    "task_input = serialize({\n",
    "    \"method\": \"read_csv\",\n",
    "    \"args\": [],\n",
    "    \"kwargs\": {}\n",
    "})\n",
    "\n",
    "input_str = DummyCryptor().encrypt_bytes_to_str(task_input, None)\n",
    "print(input_str)\n",
    "\n",
    "task_input = serialize({\n",
    "    \"method\": \"pre_process\",\n",
    "    \"args\": [\"age\", \"string\"],\n",
    "    \"kwargs\": {}\n",
    "})\n",
    "\n",
    "input_str = DummyCryptor().encrypt_bytes_to_str(task_input, None)\n",
    "print(input_str)\n",
    "\n",
    "task_input = serialize({\n",
    "    \"method\": \"sum\",\n",
    "    \"args\": [\"age\"],\n",
    "    \"kwargs\": {}\n",
    "})\n",
    "\n",
    "input_str = DummyCryptor().encrypt_bytes_to_str(task_input, None)\n",
    "print(input_str)"
   ]
  },
  {
   "cell_type": "code",
   "execution_count": 7,
   "metadata": {},
   "outputs": [
    {
     "data": {
      "text/plain": [
       "'eyJtZXRob2QiOiAicmVhZF9jc3YiLCAiYXJncyI6IFtdLCAia3dhcmdzIjoge319'"
      ]
     },
     "execution_count": 7,
     "metadata": {},
     "output_type": "execute_result"
    }
   ],
   "source": [
    "input_str"
   ]
  },
  {
   "cell_type": "code",
   "execution_count": 94,
   "metadata": {},
   "outputs": [],
   "source": [
    "session_input = {\n",
    "  \"collaboration_id\": 1,\n",
    "  \"pipelines\": [\n",
    "    {\n",
    "      \"task\": {\n",
    "        \"image\": \"harbor2.vantage6.ai/algorithms/csv-extractor\",\n",
    "        \"organizations\": [\n",
    "          {\n",
    "            \"id\": 1,\n",
    "            \"input\": input_str,\n",
    "          }\n",
    "        ]\n",
    "      },\n",
    "      \"handle\": \"default\",\n",
    "    }\n",
    "  ],\n",
    "  \"scope\": \"own\"\n",
    "}"
   ]
  },
  {
   "cell_type": "code",
   "execution_count": 96,
   "metadata": {},
   "outputs": [
    {
     "name": "stdout",
     "output_type": "stream",
     "text": [
      "Making request: POST | http://localhost:5000/api/session | None\n",
      "Starting new HTTP connection (1): localhost:5000\n",
      "http://localhost:5000 \"POST /api/session HTTP/11\" 201 415\n"
     ]
    },
    {
     "data": {
      "text/plain": [
       "{'scope': 'own',\n",
       " 'node_sessions': '/api/session/33/node',\n",
       " 'name': 'peaceful_cori',\n",
       " 'id': 33,\n",
       " 'ready': False,\n",
       " 'collaboration': {'id': 1,\n",
       "  'link': '/api/collaboration/1',\n",
       "  'methods': ['PATCH', 'DELETE', 'GET']},\n",
       " 'owner': {'id': 1,\n",
       "  'link': '/api/user/1',\n",
       "  'methods': ['PATCH', 'DELETE', 'GET']},\n",
       " 'last_used_at': '2024-07-10T14:33:59.231922',\n",
       " 'tasks': '/api/task?session_id=33',\n",
       " 'created_at': '2024-07-10T14:33:59.231899'}"
      ]
     },
     "execution_count": 96,
     "metadata": {},
     "output_type": "execute_result"
    }
   ],
   "source": [
    "client.request(\"session\", json=session_input, method=\"post\")"
   ]
  },
  {
   "cell_type": "code",
   "execution_count": 55,
   "metadata": {},
   "outputs": [
    {
     "name": "stdout",
     "output_type": "stream",
     "text": [
      "Making request: GET | http://localhost:5000/api/session/12 | None\n",
      "Starting new HTTP connection (1): localhost:5000\n",
      "http://localhost:5000 \"GET /api/session/12 HTTP/11\" 200 425\n"
     ]
    },
    {
     "data": {
      "text/plain": [
       "{'owner': {'id': 1,\n",
       "  'link': '/api/user/1',\n",
       "  'methods': ['GET', 'PATCH', 'DELETE']},\n",
       " 'id': 12,\n",
       " 'last_used_at': '2024-07-03T13:28:20.024395',\n",
       " 'tasks': '/api/task?session_id=12',\n",
       " 'created_at': '2024-07-03T13:28:20.024374',\n",
       " 'node_sessions': '/api/session/12/node',\n",
       " 'collaboration': {'id': 1,\n",
       "  'link': '/api/collaboration/1',\n",
       "  'methods': ['GET', 'PATCH', 'DELETE']},\n",
       " 'label': 'dazzling_chandrasekhar',\n",
       " 'scope': 'own',\n",
       " 'ready': False}"
      ]
     },
     "execution_count": 55,
     "metadata": {},
     "output_type": "execute_result"
    }
   ],
   "source": [
    "client.request(\"session/12\", json={\"session_id\": 1}, method=\"get\")"
   ]
  },
  {
   "cell_type": "code",
   "execution_count": 56,
   "metadata": {},
   "outputs": [
    {
     "name": "stdout",
     "output_type": "stream",
     "text": [
      "Making request: GET | http://localhost:5000/api/session/12/node | None\n",
      "Starting new HTTP connection (1): localhost:5000\n",
      "http://localhost:5000 \"GET /api/session/12/node HTTP/11\" 200 948\n"
     ]
    },
    {
     "data": {
      "text/plain": [
       "[{'config': [{'value': 'my-database-handle', 'key': 'df_handle'}],\n",
       "  'state': 'pending',\n",
       "  'id': 34,\n",
       "  'node': {'id': 2,\n",
       "   'link': '/api/node/2',\n",
       "   'methods': ['GET', 'PATCH', 'DELETE']},\n",
       "  'session': {'id': 12,\n",
       "   'link': '/api/session/12',\n",
       "   'methods': ['GET', 'PATCH', 'DELETE']},\n",
       "  'last_updated_at': '2024-07-03T13:28:20.026173'},\n",
       " {'config': [{'value': 'my-database-handle', 'key': 'df_handle'}],\n",
       "  'state': 'pending',\n",
       "  'id': 35,\n",
       "  'node': {'id': 3,\n",
       "   'link': '/api/node/3',\n",
       "   'methods': ['GET', 'PATCH', 'DELETE']},\n",
       "  'session': {'id': 12,\n",
       "   'link': '/api/session/12',\n",
       "   'methods': ['GET', 'PATCH', 'DELETE']},\n",
       "  'last_updated_at': '2024-07-03T13:28:20.026173'},\n",
       " {'config': [{'value': 'my-database-handle', 'key': 'df_handle'}],\n",
       "  'state': 'pending',\n",
       "  'id': 36,\n",
       "  'node': {'id': 4,\n",
       "   'link': '/api/node/4',\n",
       "   'methods': ['GET', 'PATCH', 'DELETE']},\n",
       "  'session': {'id': 12,\n",
       "   'link': '/api/session/12',\n",
       "   'methods': ['GET', 'PATCH', 'DELETE']},\n",
       "  'last_updated_at': '2024-07-03T13:28:20.026173'}]"
      ]
     },
     "execution_count": 56,
     "metadata": {},
     "output_type": "execute_result"
    }
   ],
   "source": [
    "client.request(\"session/12/node\", json={\"session_id\": 1}, method=\"get\")"
   ]
  },
  {
   "cell_type": "code",
   "execution_count": null,
   "metadata": {},
   "outputs": [],
   "source": []
  }
 ],
 "metadata": {
  "kernelspec": {
   "display_name": "vantage6",
   "language": "python",
   "name": "python3"
  },
  "language_info": {
   "codemirror_mode": {
    "name": "ipython",
    "version": 3
   },
   "file_extension": ".py",
   "mimetype": "text/x-python",
   "name": "python",
   "nbconvert_exporter": "python",
   "pygments_lexer": "ipython3",
   "version": "3.10.13"
  }
 },
 "nbformat": 4,
 "nbformat_minor": 2
}
