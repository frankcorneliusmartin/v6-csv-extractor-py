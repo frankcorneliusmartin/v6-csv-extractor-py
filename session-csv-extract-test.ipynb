{
 "cells": [
  {
   "cell_type": "code",
   "execution_count": null,
   "metadata": {},
   "outputs": [],
   "source": [
    "# Load the autoreload extension\n",
    "%load_ext autoreload\n",
    "\n",
    "# Set autoreload mode to reload all modules before executing code\n",
    "%autoreload 2\n",
    "\n",
    "from vantage6.client import Client"
   ]
  },
  {
   "cell_type": "code",
   "execution_count": null,
   "metadata": {},
   "outputs": [],
   "source": [
    "client = Client(\"http://localhost\", 7601, \"/api\", log_level=\"INFO\")"
   ]
  },
  {
   "cell_type": "code",
   "execution_count": null,
   "metadata": {},
   "outputs": [],
   "source": [
    "client.authenticate(\"dev_admin\", \"password\")"
   ]
  },
  {
   "cell_type": "code",
   "execution_count": 8,
   "metadata": {},
   "outputs": [],
   "source": [
    "client.setup_encryption(None)"
   ]
  },
  {
   "cell_type": "code",
   "execution_count": null,
   "metadata": {},
   "outputs": [],
   "source": [
    "client.setup_collaboration(1)"
   ]
  },
  {
   "cell_type": "markdown",
   "metadata": {},
   "source": [
    "# Basic Session Management"
   ]
  },
  {
   "cell_type": "code",
   "execution_count": null,
   "metadata": {},
   "outputs": [],
   "source": [
    "a = client.session.create(scope=\"own\", display=True)"
   ]
  },
  {
   "cell_type": "code",
   "execution_count": null,
   "metadata": {},
   "outputs": [],
   "source": [
    "client.session.get(9)"
   ]
  },
  {
   "cell_type": "code",
   "execution_count": null,
   "metadata": {},
   "outputs": [],
   "source": [
    "client.collaboration.get(1)"
   ]
  },
  {
   "cell_type": "code",
   "execution_count": null,
   "metadata": {},
   "outputs": [],
   "source": [
    "client.organization.list(collaboration=1)"
   ]
  },
  {
   "cell_type": "code",
   "execution_count": null,
   "metadata": {},
   "outputs": [],
   "source": [
    "client.session.create(name=\"henk2\", scope=\"organization\", display=True);"
   ]
  },
  {
   "cell_type": "code",
   "execution_count": null,
   "metadata": {},
   "outputs": [],
   "source": [
    "client.session.list(display=True);"
   ]
  },
  {
   "cell_type": "code",
   "execution_count": null,
   "metadata": {},
   "outputs": [],
   "source": [
    "client.session.update(9, name=\"new name4\", scope=\"own\", display=True);"
   ]
  },
  {
   "cell_type": "code",
   "execution_count": null,
   "metadata": {},
   "outputs": [],
   "source": [
    "client.session.get(9, display=True);"
   ]
  },
  {
   "cell_type": "code",
   "execution_count": null,
   "metadata": {},
   "outputs": [],
   "source": [
    "client.dataframe.create(\"default\", \"harbor2.vantage6.ai/algorithms/csv-extractor\", {\n",
    "    \"method\": \"read_csv\",\n",
    "    \"args\": [],\n",
    "    \"kwargs\": {}\n",
    "}, 10, display=True)"
   ]
  },
  {
   "cell_type": "code",
   "execution_count": null,
   "metadata": {},
   "outputs": [],
   "source": []
  },
  {
   "cell_type": "code",
   "execution_count": null,
   "metadata": {},
   "outputs": [],
   "source": [
    "client.session.dataframes(10, display=True);"
   ]
  },
  {
   "cell_type": "code",
   "execution_count": null,
   "metadata": {},
   "outputs": [],
   "source": [
    "client.dataframe.get(\"vibrant_brahmagupta\", 10, display=True);"
   ]
  },
  {
   "cell_type": "code",
   "execution_count": null,
   "metadata": {},
   "outputs": [],
   "source": [
    "client.dataframe.preprocess(handle=\"vibrant_brahmagupta\", image=\"harbor2.vantage6.ai/algorithms/csv-extractor\", input_={\n",
    "    \"method\": \"pre_process\",\n",
    "    \"args\": [\"Age\", \"int64\"],\n",
    "    \"kwargs\": {}\n",
    "}, session=10)"
   ]
  },
  {
   "cell_type": "code",
   "execution_count": null,
   "metadata": {},
   "outputs": [],
   "source": [
    "sessions = client.session.list(display=True)"
   ]
  },
  {
   "cell_type": "code",
   "execution_count": null,
   "metadata": {},
   "outputs": [],
   "source": [
    "client.session.tree()"
   ]
  },
  {
   "cell_type": "code",
   "execution_count": null,
   "metadata": {},
   "outputs": [],
   "source": [
    "[client.session.delete(id_, delete_dependents=True) for id_ in [1,2]]"
   ]
  },
  {
   "cell_type": "code",
   "execution_count": null,
   "metadata": {},
   "outputs": [],
   "source": [
    "client.session.task_tree(9)"
   ]
  },
  {
   "cell_type": "code",
   "execution_count": 434,
   "metadata": {},
   "outputs": [],
   "source": [
    "a = client.dataframe.get(\"eloquent_knuth\", 1)"
   ]
  },
  {
   "cell_type": "code",
   "execution_count": null,
   "metadata": {},
   "outputs": [],
   "source": [
    "client.task.create(name=\"compute_something\", description=\"\", organizations=[1], databases=[{\"label\": \"vibrant_brahmagupta\", \"type\": \"handle\"}], image=\"harbor2.vantage6.ai/algorithms/csv-extractor\", input_={\n",
    "    \"method\": \"sum\",\n",
    "    \"args\": [\"Age\"],\n",
    "    \"kwargs\": {}\n",
    "}, session=10)"
   ]
  },
  {
   "cell_type": "code",
   "execution_count": null,
   "metadata": {},
   "outputs": [],
   "source": [
    "client.wait_for_results(12)"
   ]
  },
  {
   "cell_type": "code",
   "execution_count": null,
   "metadata": {},
   "outputs": [],
   "source": [
    "from rich.table import Table\n",
    "from rich.console import Console\n",
    "\n",
    "table = Table(title=\"DF\")"
   ]
  },
  {
   "cell_type": "markdown",
   "metadata": {},
   "source": [
    "# OLD"
   ]
  },
  {
   "cell_type": "code",
   "execution_count": null,
   "metadata": {},
   "outputs": [],
   "source": []
  },
  {
   "cell_type": "code",
   "execution_count": null,
   "metadata": {},
   "outputs": [],
   "source": [
    "from vantage6.common.serialization import serialize\n",
    "from vantage6.common.encryption import DummyCryptor\n",
    "\n",
    "task_input = serialize({\n",
    "    \"method\": \"read_csv\",\n",
    "    \"args\": [],\n",
    "    \"kwargs\": {}\n",
    "})\n",
    "\n",
    "input_str = DummyCryptor().encrypt_bytes_to_str(task_input, None)\n",
    "print(input_str)\n",
    "\n",
    "task_input = serialize({\n",
    "    \"method\": \"pre_process\",\n",
    "    \"args\": [\"age\", \"string\"],\n",
    "    \"kwargs\": {}\n",
    "})\n",
    "\n",
    "input_str = DummyCryptor().encrypt_bytes_to_str(task_input, None)\n",
    "print(input_str)\n",
    "\n",
    "task_input = serialize({\n",
    "    \"method\": \"sum\",\n",
    "    \"args\": [\"age\"],\n",
    "    \"kwargs\": {}\n",
    "})\n",
    "\n",
    "input_str = DummyCryptor().encrypt_bytes_to_str(task_input, None)\n",
    "print(input_str)"
   ]
  },
  {
   "cell_type": "code",
   "execution_count": null,
   "metadata": {},
   "outputs": [],
   "source": [
    "input_str"
   ]
  },
  {
   "cell_type": "code",
   "execution_count": 94,
   "metadata": {},
   "outputs": [],
   "source": [
    "session_input = {\n",
    "  \"collaboration_id\": 1,\n",
    "  \"pipelines\": [\n",
    "    {\n",
    "      \"task\": {\n",
    "        \"image\": \"harbor2.vantage6.ai/algorithms/csv-extractor\",\n",
    "        \"organizations\": [\n",
    "          {\n",
    "            \"id\": 1,\n",
    "            \"input\": input_str,\n",
    "          }\n",
    "        ]\n",
    "      },\n",
    "      \"handle\": \"default\",\n",
    "    }\n",
    "  ],\n",
    "  \"scope\": \"own\"\n",
    "}"
   ]
  },
  {
   "cell_type": "code",
   "execution_count": null,
   "metadata": {},
   "outputs": [],
   "source": [
    "client.request(\"session\", json=session_input, method=\"post\")"
   ]
  },
  {
   "cell_type": "code",
   "execution_count": null,
   "metadata": {},
   "outputs": [],
   "source": [
    "client.request(\"session/12\", json={\"session_id\": 1}, method=\"get\")"
   ]
  },
  {
   "cell_type": "code",
   "execution_count": null,
   "metadata": {},
   "outputs": [],
   "source": [
    "client.request(\"session/12/node\", json={\"session_id\": 1}, method=\"get\")"
   ]
  },
  {
   "cell_type": "code",
   "execution_count": null,
   "metadata": {},
   "outputs": [],
   "source": []
  }
 ],
 "metadata": {
  "kernelspec": {
   "display_name": "five",
   "language": "python",
   "name": "python3"
  },
  "language_info": {
   "codemirror_mode": {
    "name": "ipython",
    "version": 3
   },
   "file_extension": ".py",
   "mimetype": "text/x-python",
   "name": "python",
   "nbconvert_exporter": "python",
   "pygments_lexer": "ipython3",
   "version": "3.10.16"
  }
 },
 "nbformat": 4,
 "nbformat_minor": 2
}
